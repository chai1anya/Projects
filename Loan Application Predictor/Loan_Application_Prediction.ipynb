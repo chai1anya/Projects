{
  "cells": [
    {
      "cell_type": "markdown",
      "metadata": {
        "id": "view-in-github",
        "colab_type": "text"
      },
      "source": [
        "<a href=\"https://colab.research.google.com/github/chai1anya/Projects/blob/main/Loan%20Application%20Predictor/Loan_Application_Prediction.ipynb\" target=\"_parent\"><img src=\"https://colab.research.google.com/assets/colab-badge.svg\" alt=\"Open In Colab\"/></a>"
      ]
    },
    {
      "cell_type": "markdown",
      "metadata": {
        "id": "SD78m9GJCFWf"
      },
      "source": [
        "###  Importing Libraries"
      ]
    },
    {
      "cell_type": "code",
      "execution_count": null,
      "metadata": {
        "id": "XbRl2bXFCAPH"
      },
      "outputs": [],
      "source": [
        "\n",
        "\n",
        "import pandas as pd\n",
        "import numpy as np\n",
        "import seaborn as sns\n",
        "import matplotlib.pyplot as plt\n",
        "%matplotlib inline\n",
        "import warnings\n",
        "warnings.filterwarnings(\"ignore\")\n",
        "\n"
      ]
    },
    {
      "cell_type": "markdown",
      "metadata": {
        "id": "38TML1mXCHTQ"
      },
      "source": [
        "### Loading Data Train & Test"
      ]
    },
    {
      "cell_type": "code",
      "execution_count": null,
      "metadata": {
        "colab": {
          "base_uri": "https://localhost:8080/",
          "height": 305
        },
        "id": "js4JXcFxCG03",
        "outputId": "ede0a893-21c5-46ce-e838-2bcaec29230f"
      },
      "outputs": [
        {
          "data": {
            "text/html": [
              "<div>\n",
              "<style scoped>\n",
              "    .dataframe tbody tr th:only-of-type {\n",
              "        vertical-align: middle;\n",
              "    }\n",
              "\n",
              "    .dataframe tbody tr th {\n",
              "        vertical-align: top;\n",
              "    }\n",
              "\n",
              "    .dataframe thead th {\n",
              "        text-align: right;\n",
              "    }\n",
              "</style>\n",
              "<table border=\"1\" class=\"dataframe\">\n",
              "  <thead>\n",
              "    <tr style=\"text-align: right;\">\n",
              "      <th></th>\n",
              "      <th>Loan_ID</th>\n",
              "      <th>Gender</th>\n",
              "      <th>Married</th>\n",
              "      <th>Dependents</th>\n",
              "      <th>Education</th>\n",
              "      <th>Self_Employed</th>\n",
              "      <th>ApplicantIncome</th>\n",
              "      <th>CoapplicantIncome</th>\n",
              "      <th>LoanAmount</th>\n",
              "      <th>Loan_Amount_Term</th>\n",
              "      <th>Credit_History</th>\n",
              "      <th>Property_Area</th>\n",
              "      <th>Loan_Status</th>\n",
              "    </tr>\n",
              "  </thead>\n",
              "  <tbody>\n",
              "    <tr>\n",
              "      <th>0</th>\n",
              "      <td>LP002305</td>\n",
              "      <td>Female</td>\n",
              "      <td>No</td>\n",
              "      <td>0</td>\n",
              "      <td>Graduate</td>\n",
              "      <td>No</td>\n",
              "      <td>4547</td>\n",
              "      <td>0.0</td>\n",
              "      <td>115.0</td>\n",
              "      <td>360.0</td>\n",
              "      <td>1.0</td>\n",
              "      <td>Semiurban</td>\n",
              "      <td>1</td>\n",
              "    </tr>\n",
              "    <tr>\n",
              "      <th>1</th>\n",
              "      <td>LP001715</td>\n",
              "      <td>Male</td>\n",
              "      <td>Yes</td>\n",
              "      <td>3+</td>\n",
              "      <td>Not Graduate</td>\n",
              "      <td>Yes</td>\n",
              "      <td>5703</td>\n",
              "      <td>0.0</td>\n",
              "      <td>130.0</td>\n",
              "      <td>360.0</td>\n",
              "      <td>1.0</td>\n",
              "      <td>Rural</td>\n",
              "      <td>1</td>\n",
              "    </tr>\n",
              "    <tr>\n",
              "      <th>2</th>\n",
              "      <td>LP002086</td>\n",
              "      <td>Female</td>\n",
              "      <td>Yes</td>\n",
              "      <td>0</td>\n",
              "      <td>Graduate</td>\n",
              "      <td>No</td>\n",
              "      <td>4333</td>\n",
              "      <td>2451.0</td>\n",
              "      <td>110.0</td>\n",
              "      <td>360.0</td>\n",
              "      <td>1.0</td>\n",
              "      <td>Urban</td>\n",
              "      <td>0</td>\n",
              "    </tr>\n",
              "    <tr>\n",
              "      <th>3</th>\n",
              "      <td>LP001136</td>\n",
              "      <td>Male</td>\n",
              "      <td>Yes</td>\n",
              "      <td>0</td>\n",
              "      <td>Not Graduate</td>\n",
              "      <td>Yes</td>\n",
              "      <td>4695</td>\n",
              "      <td>0.0</td>\n",
              "      <td>96.0</td>\n",
              "      <td>NaN</td>\n",
              "      <td>1.0</td>\n",
              "      <td>Urban</td>\n",
              "      <td>1</td>\n",
              "    </tr>\n",
              "    <tr>\n",
              "      <th>4</th>\n",
              "      <td>LP002529</td>\n",
              "      <td>Male</td>\n",
              "      <td>Yes</td>\n",
              "      <td>2</td>\n",
              "      <td>Graduate</td>\n",
              "      <td>No</td>\n",
              "      <td>6700</td>\n",
              "      <td>1750.0</td>\n",
              "      <td>230.0</td>\n",
              "      <td>300.0</td>\n",
              "      <td>1.0</td>\n",
              "      <td>Semiurban</td>\n",
              "      <td>1</td>\n",
              "    </tr>\n",
              "  </tbody>\n",
              "</table>\n",
              "</div>"
            ],
            "text/plain": [
              "    Loan_ID  Gender Married Dependents     Education Self_Employed  \\\n",
              "0  LP002305  Female      No          0      Graduate            No   \n",
              "1  LP001715    Male     Yes         3+  Not Graduate           Yes   \n",
              "2  LP002086  Female     Yes          0      Graduate            No   \n",
              "3  LP001136    Male     Yes          0  Not Graduate           Yes   \n",
              "4  LP002529    Male     Yes          2      Graduate            No   \n",
              "\n",
              "   ApplicantIncome  CoapplicantIncome  LoanAmount  Loan_Amount_Term  \\\n",
              "0             4547                0.0       115.0             360.0   \n",
              "1             5703                0.0       130.0             360.0   \n",
              "2             4333             2451.0       110.0             360.0   \n",
              "3             4695                0.0        96.0               NaN   \n",
              "4             6700             1750.0       230.0             300.0   \n",
              "\n",
              "   Credit_History Property_Area  Loan_Status  \n",
              "0             1.0     Semiurban            1  \n",
              "1             1.0         Rural            1  \n",
              "2             1.0         Urban            0  \n",
              "3             1.0         Urban            1  \n",
              "4             1.0     Semiurban            1  "
            ]
          },
          "execution_count": 2,
          "metadata": {},
          "output_type": "execute_result"
        }
      ],
      "source": [
        "# Reading the loan_train.csv file from the given URL and storing it in a pandas dataframe named loan_data\n",
        "loan_data = pd.read_csv(\"https://raw.githubusercontent.com/dphi-official/Datasets/master/Loan_Data/loan_train.csv\",index_col=False)\n",
        "\n",
        "# Removing the column named 'Unnamed: 0' from the loan_data dataframe using the drop() method\n",
        "loan_data = loan_data.drop(['Unnamed: 0'], axis=1)\n",
        "\n",
        "# Displaying the first few rows of the loan_data dataframe using the head() method\n",
        "loan_data.head()"
      ]
    },
    {
      "cell_type": "code",
      "execution_count": null,
      "metadata": {
        "colab": {
          "base_uri": "https://localhost:8080/",
          "height": 322
        },
        "id": "nHLn5eeGCJkv",
        "outputId": "61df6b2e-6d71-4079-9387-67108de735f1"
      },
      "outputs": [
        {
          "data": {
            "text/html": [
              "<div>\n",
              "<style scoped>\n",
              "    .dataframe tbody tr th:only-of-type {\n",
              "        vertical-align: middle;\n",
              "    }\n",
              "\n",
              "    .dataframe tbody tr th {\n",
              "        vertical-align: top;\n",
              "    }\n",
              "\n",
              "    .dataframe thead th {\n",
              "        text-align: right;\n",
              "    }\n",
              "</style>\n",
              "<table border=\"1\" class=\"dataframe\">\n",
              "  <thead>\n",
              "    <tr style=\"text-align: right;\">\n",
              "      <th></th>\n",
              "      <th>Loan_ID</th>\n",
              "      <th>Gender</th>\n",
              "      <th>Married</th>\n",
              "      <th>Dependents</th>\n",
              "      <th>Education</th>\n",
              "      <th>Self_Employed</th>\n",
              "      <th>ApplicantIncome</th>\n",
              "      <th>CoapplicantIncome</th>\n",
              "      <th>LoanAmount</th>\n",
              "      <th>Loan_Amount_Term</th>\n",
              "      <th>Credit_History</th>\n",
              "      <th>Property_Area</th>\n",
              "    </tr>\n",
              "  </thead>\n",
              "  <tbody>\n",
              "    <tr>\n",
              "      <th>0</th>\n",
              "      <td>LP001116</td>\n",
              "      <td>Male</td>\n",
              "      <td>No</td>\n",
              "      <td>0</td>\n",
              "      <td>Not Graduate</td>\n",
              "      <td>No</td>\n",
              "      <td>3748</td>\n",
              "      <td>1668.0</td>\n",
              "      <td>110.0</td>\n",
              "      <td>360.0</td>\n",
              "      <td>1.0</td>\n",
              "      <td>Semiurban</td>\n",
              "    </tr>\n",
              "    <tr>\n",
              "      <th>1</th>\n",
              "      <td>LP001488</td>\n",
              "      <td>Male</td>\n",
              "      <td>Yes</td>\n",
              "      <td>3+</td>\n",
              "      <td>Graduate</td>\n",
              "      <td>No</td>\n",
              "      <td>4000</td>\n",
              "      <td>7750.0</td>\n",
              "      <td>290.0</td>\n",
              "      <td>360.0</td>\n",
              "      <td>1.0</td>\n",
              "      <td>Semiurban</td>\n",
              "    </tr>\n",
              "    <tr>\n",
              "      <th>2</th>\n",
              "      <td>LP002138</td>\n",
              "      <td>Male</td>\n",
              "      <td>Yes</td>\n",
              "      <td>0</td>\n",
              "      <td>Graduate</td>\n",
              "      <td>No</td>\n",
              "      <td>2625</td>\n",
              "      <td>6250.0</td>\n",
              "      <td>187.0</td>\n",
              "      <td>360.0</td>\n",
              "      <td>1.0</td>\n",
              "      <td>Rural</td>\n",
              "    </tr>\n",
              "    <tr>\n",
              "      <th>3</th>\n",
              "      <td>LP002284</td>\n",
              "      <td>Male</td>\n",
              "      <td>No</td>\n",
              "      <td>0</td>\n",
              "      <td>Not Graduate</td>\n",
              "      <td>No</td>\n",
              "      <td>3902</td>\n",
              "      <td>1666.0</td>\n",
              "      <td>109.0</td>\n",
              "      <td>360.0</td>\n",
              "      <td>1.0</td>\n",
              "      <td>Rural</td>\n",
              "    </tr>\n",
              "    <tr>\n",
              "      <th>4</th>\n",
              "      <td>LP002328</td>\n",
              "      <td>Male</td>\n",
              "      <td>Yes</td>\n",
              "      <td>0</td>\n",
              "      <td>Not Graduate</td>\n",
              "      <td>No</td>\n",
              "      <td>6096</td>\n",
              "      <td>0.0</td>\n",
              "      <td>218.0</td>\n",
              "      <td>360.0</td>\n",
              "      <td>0.0</td>\n",
              "      <td>Rural</td>\n",
              "    </tr>\n",
              "  </tbody>\n",
              "</table>\n",
              "</div>"
            ],
            "text/plain": [
              "    Loan_ID Gender Married Dependents     Education Self_Employed  \\\n",
              "0  LP001116   Male      No          0  Not Graduate            No   \n",
              "1  LP001488   Male     Yes         3+      Graduate            No   \n",
              "2  LP002138   Male     Yes          0      Graduate            No   \n",
              "3  LP002284   Male      No          0  Not Graduate            No   \n",
              "4  LP002328   Male     Yes          0  Not Graduate            No   \n",
              "\n",
              "   ApplicantIncome  CoapplicantIncome  LoanAmount  Loan_Amount_Term  \\\n",
              "0             3748             1668.0       110.0             360.0   \n",
              "1             4000             7750.0       290.0             360.0   \n",
              "2             2625             6250.0       187.0             360.0   \n",
              "3             3902             1666.0       109.0             360.0   \n",
              "4             6096                0.0       218.0             360.0   \n",
              "\n",
              "   Credit_History Property_Area  \n",
              "0             1.0     Semiurban  \n",
              "1             1.0     Semiurban  \n",
              "2             1.0         Rural  \n",
              "3             1.0         Rural  \n",
              "4             0.0         Rural  "
            ]
          },
          "execution_count": 3,
          "metadata": {},
          "output_type": "execute_result"
        }
      ],
      "source": [
        "test_data = pd.read_csv('https://raw.githubusercontent.com/dphi-official/Datasets/master/Loan_Data/loan_test.csv')\n",
        "test_data.head()"
      ]
    },
    {
      "cell_type": "code",
      "execution_count": null,
      "metadata": {
        "colab": {
          "base_uri": "https://localhost:8080/"
        },
        "id": "zXcicFbjCK2n",
        "outputId": "3c81d0bb-7ad5-4ad6-93be-db40d174519b"
      },
      "outputs": [
        {
          "data": {
            "text/plain": [
              "(491, 13)"
            ]
          },
          "execution_count": 4,
          "metadata": {},
          "output_type": "execute_result"
        }
      ],
      "source": [
        "loan_data.shape"
      ]
    },
    {
      "cell_type": "code",
      "execution_count": null,
      "metadata": {
        "colab": {
          "base_uri": "https://localhost:8080/"
        },
        "id": "Ft3o4etjCMaI",
        "outputId": "63969737-49bc-41ce-8069-0f43e6c63920"
      },
      "outputs": [
        {
          "data": {
            "text/plain": [
              "(123, 12)"
            ]
          },
          "execution_count": 5,
          "metadata": {},
          "output_type": "execute_result"
        }
      ],
      "source": [
        "\n",
        "\n",
        "test_data.shape\n",
        "\n"
      ]
    },
    {
      "cell_type": "code",
      "execution_count": null,
      "metadata": {
        "colab": {
          "base_uri": "https://localhost:8080/"
        },
        "id": "O2tJ5wuWCN6X",
        "outputId": "0a569b77-4433-40b6-cf7b-18bffc10dd4c"
      },
      "outputs": [
        {
          "data": {
            "text/plain": [
              "1    343\n",
              "0    148\n",
              "Name: Loan_Status, dtype: int64"
            ]
          },
          "execution_count": 6,
          "metadata": {},
          "output_type": "execute_result"
        }
      ],
      "source": [
        "loan_data['Loan_Status'].value_counts()"
      ]
    },
    {
      "cell_type": "code",
      "execution_count": null,
      "metadata": {
        "colab": {
          "base_uri": "https://localhost:8080/"
        },
        "id": "lrJNjL7yCPRn",
        "outputId": "f3f4847f-2ac6-4e75-8b33-f20829a1acf6"
      },
      "outputs": [
        {
          "data": {
            "text/plain": [
              "1    0.698574\n",
              "0    0.301426\n",
              "Name: Loan_Status, dtype: float64"
            ]
          },
          "execution_count": 7,
          "metadata": {},
          "output_type": "execute_result"
        }
      ],
      "source": [
        "# Counting the number of occurrences of each unique value in the 'Loan_Status' column of the 'loan_data' dataframe\n",
        "# and expressing the results as a proportion (i.e., a percentage) of the total number of rows in the dataframe\n",
        "loan_data['Loan_Status'].value_counts(normalize=True)\n"
      ]
    },
    {
      "cell_type": "code",
      "execution_count": null,
      "metadata": {
        "colab": {
          "base_uri": "https://localhost:8080/",
          "height": 279
        },
        "id": "kGVQSWP2CQlH",
        "outputId": "4c829d4c-f791-41d6-d38d-3733e593dc18"
      },
      "outputs": [
        {
          "data": {
            "text/plain": [
              "<matplotlib.axes._subplots.AxesSubplot at 0x24ddabece50>"
            ]
          },
          "execution_count": 8,
          "metadata": {},
          "output_type": "execute_result"
        },
        {
          "data": {
            "image/png": "[encoded data removed]",
            "text/plain": [
              "<Figure size 432x288 with 1 Axes>"
            ]
          },
          "metadata": {
            "needs_background": "light"
          },
          "output_type": "display_data"
        }
      ],
      "source": [
        "\n",
        "\n",
        "# Counting the number of occurrences of each unique value in the 'Loan_Status' column of the 'loan_data' dataframe\n",
        "# and creating a bar plot to visualize the distribution of loan approvals and rejections\n",
        "loan_data['Loan_Status'].value_counts().plot.bar()\n"
      ]
    },
    {
      "cell_type": "markdown",
      "metadata": {
        "id": "QcUFJMaYCUQ2"
      },
      "source": [
        "\n",
        "\n",
        "The loan of 343(around 69.85%) people out of 491 were approved.\n",
        "\n",
        "Now, visualizing each variable separately. Different types of variables are Categorical, ordinal and numerical.\n",
        "\n",
        "* Categorical features: Gender, Married, Self_Employed, Credit_History, Loan_Status\n",
        "* Ordinal features: Dependents, Education, Property_Area\n",
        "* Numerical features: ApplicantIncome, CoapplicantIncome, LoanAmount,Loan_Amount_Term\n",
        "\n"
      ]
    },
    {
      "cell_type": "markdown",
      "metadata": {
        "id": "NRYVEG6jCb2P"
      },
      "source": [
        "\n",
        "### Independent Variable (Categorical)"
      ]
    },
    {
      "cell_type": "code",
      "execution_count": null,
      "metadata": {
        "colab": {
          "base_uri": "https://localhost:8080/",
          "height": 1000
        },
        "id": "QspBJ7-TCSHH",
        "outputId": "78b55517-80a6-48ac-b3d8-18966a760030"
      },
      "outputs": [
        {
          "data": {
            "image/png": "[encoded data removed]",
            "text/plain": [
              "<Figure size 432x288 with 1 Axes>"
            ]
          },
          "metadata": {
            "needs_background": "light"
          },
          "output_type": "display_data"
        },
        {
          "data": {
            "image/png": "[encoded data removed]",
            "text/plain": [
              "<Figure size 432x288 with 1 Axes>"
            ]
          },
          "metadata": {
            "needs_background": "light"
          },
          "output_type": "display_data"
        },
        {
          "data": {
            "image/png": "[encoded data removed]",
            "text/plain": [
              "<Figure size 432x288 with 1 Axes>"
            ]
          },
          "metadata": {
            "needs_background": "light"
          },
          "output_type": "display_data"
        },
        {
          "data": {
            "image/png": "[encoded data removed]",
            "text/plain": [
              "<Figure size 432x288 with 1 Axes>"
            ]
          },
          "metadata": {
            "needs_background": "light"
          },
          "output_type": "display_data"
        }
      ],
      "source": [
        "# Counting the number of occurrences of each unique value in the 'Gender' column of the 'loan_data' dataframe\n",
        "# and creating a bar plot to visualize the distribution of loan applicants by gender\n",
        "\n",
        "loan_data['Gender'].value_counts(normalize=True).plot.bar(title='Gender')\n",
        "plt.show()\n",
        "loan_data['Married'].value_counts(normalize=True).plot.bar(title='Married')\n",
        "plt.show()\n",
        "loan_data['Self_Employed'].value_counts(normalize=True).plot.bar(title='Self_Employed')\n",
        "plt.show()\n",
        "loan_data['Credit_History'].value_counts(normalize=True).plot.bar(title='Credit_History')\n",
        "plt.show()\n",
        "\n"
      ]
    },
    {
      "cell_type": "markdown",
      "metadata": {
        "id": "-HJoslE9CkxD"
      },
      "source": [
        "\n",
        "\n",
        "It can be inferred from the above bar plots that:\n",
        "\n",
        "* 80% applicants in the dataset are male.\n",
        "* Around 65% of the applicants in the dataset are married.\n",
        "* Around 15% applicants in the dataset are self employed.\n",
        "* Around 85% applicants have repaid their doubts.\n",
        "\n"
      ]
    },
    {
      "cell_type": "markdown",
      "metadata": {
        "id": "uBfqroLJCsko"
      },
      "source": [
        "### Independent Variable (Ordinal)"
      ]
    },
    {
      "cell_type": "code",
      "execution_count": null,
      "metadata": {
        "colab": {
          "base_uri": "https://localhost:8080/",
          "height": 916
        },
        "id": "BtKsl4oWCdXA",
        "outputId": "5760563b-aeb0-46db-d051-beb87f4b1130"
      },
      "outputs": [
        {
          "data": {
            "image/png": "[encoded data removed]",
            "text/plain": [
              "<Figure size 432x288 with 1 Axes>"
            ]
          },
          "metadata": {
            "needs_background": "light"
          },
          "output_type": "display_data"
        },
        {
          "data": {
            "image/png": "[encoded data removed]",
            "text/plain": [
              "<Figure size 432x288 with 1 Axes>"
            ]
          },
          "metadata": {
            "needs_background": "light"
          },
          "output_type": "display_data"
        },
        {
          "data": {
            "image/png": "[encoded data removed]",
            "text/plain": [
              "<Figure size 432x288 with 1 Axes>"
            ]
          },
          "metadata": {
            "needs_background": "light"
          },
          "output_type": "display_data"
        }
      ],
      "source": [
        "\n",
        "\n",
        "loan_data['Dependents'].value_counts(normalize=True).plot.bar( title='Dependents')\n",
        "plt.show()\n",
        "loan_data['Education'].value_counts(normalize=True).plot.bar(title='Education')\n",
        "plt.show()\n",
        "loan_data['Property_Area'].value_counts(normalize=True).plot.bar(title='Property_Area')\n",
        "plt.show()\n",
        "\n"
      ]
    },
    {
      "cell_type": "markdown",
      "metadata": {
        "id": "B_do4EpyCv1x"
      },
      "source": [
        "\n",
        "\n",
        "Following inferences can be made from the above bar plots:\n",
        "* Most of the applicants don't have any dependents.\n",
        "* Around 80% of the applicants are Graduate.\n",
        "* Most of the applicants are from Semiurban area.\n",
        "\n"
      ]
    },
    {
      "cell_type": "markdown",
      "metadata": {
        "id": "ogjd3gITC0qo"
      },
      "source": [
        "\n",
        "### Independent Variable (Numerical)"
      ]
    },
    {
      "cell_type": "code",
      "execution_count": null,
      "metadata": {
        "colab": {
          "base_uri": "https://localhost:8080/",
          "height": 582
        },
        "id": "wYuGFBjWCt3G",
        "outputId": "2d2bafe0-74b2-474c-f208-2a28a7b8c798"
      },
      "outputs": [
        {
          "data": {
            "image/png": "[encoded data removed]",
            "text/plain": [
              "<Figure size 432x288 with 1 Axes>"
            ]
          },
          "metadata": {
            "needs_background": "light"
          },
          "output_type": "display_data"
        },
        {
          "data": {
            "image/png": "[encoded data removed]",
            "text/plain": [
              "<Figure size 1152x360 with 1 Axes>"
            ]
          },
          "metadata": {
            "needs_background": "light"
          },
          "output_type": "display_data"
        }
      ],
      "source": [
        "# Creating a distribution plot to visualize the distribution of applicant incomes in the 'loan_data' dataframe\n",
        "# using the seaborn library's distplot() function\n",
        "sns.distplot(loan_data['ApplicantIncome'])\n",
        "plt.show()\n",
        "\n",
        "# Creating a box plot to visualize the distribution of applicant incomes in the 'loan_data' dataframe\n",
        "# using the pandas library's plot.box() function\n",
        "# and setting the figure size to 16x5 using the figsize parameter\n",
        "loan_data['ApplicantIncome'].plot.box(figsize=(16,5))\n",
        "plt.show()\n"
      ]
    },
    {
      "cell_type": "markdown",
      "metadata": {
        "id": "f-ydSTMJC6CQ"
      },
      "source": [
        "\n",
        "\n",
        "It can be inferred that most of the data in the distribution of applicant income is towards left which means it is not normally distributed.\n",
        "\n",
        "The boxplot confirms the presence of a lot of outliers/extreme values. This can be attributed to the income disparity in the society.\n"
      ]
    },
    {
      "cell_type": "code",
      "execution_count": null,
      "metadata": {
        "colab": {
          "base_uri": "https://localhost:8080/",
          "height": 311
        },
        "id": "jJWM-7DLC3w3",
        "outputId": "c421cc9f-15a3-4aa1-e7cd-9dc70d1462e8"
      },
      "outputs": [
        {
          "data": {
            "text/plain": [
              "Text(0.5, 0.98, '')"
            ]
          },
          "execution_count": 12,
          "metadata": {},
          "output_type": "execute_result"
        },
        {
          "data": {
            "image/png": "[encoded data removed]",
            "text/plain": [
              "<Figure size 432x288 with 1 Axes>"
            ]
          },
          "metadata": {
            "needs_background": "light"
          },
          "output_type": "display_data"
        }
      ],
      "source": [
        "# Creating a box plot to visualize the distribution of applicant incomes in the 'loan_data' dataframe\n",
        "# based on the 'Education' column\n",
        "# using the pandas library's boxplot() function\n",
        "loan_data.boxplot(column='ApplicantIncome', by='Education')\n",
        "plt.suptitle(\"\")\n"
      ]
    },
    {
      "cell_type": "markdown",
      "metadata": {
        "id": "QL-3mYb1C87Y"
      },
      "source": [
        "It can be seen that there are a higher number of graduates with very high incomes, which are appearing to be outliers.\n",
        "\n",
        "\n",
        "\n"
      ]
    },
    {
      "cell_type": "code",
      "execution_count": null,
      "metadata": {
        "colab": {
          "base_uri": "https://localhost:8080/",
          "height": 582
        },
        "id": "skakqAL3C7bo",
        "outputId": "40640e54-1af9-4ea0-b593-3bab08d8e3ab"
      },
      "outputs": [
        {
          "data": {
            "image/png": "[encoded data removed]",
            "text/plain": [
              "<Figure size 432x288 with 1 Axes>"
            ]
          },
          "metadata": {
            "needs_background": "light"
          },
          "output_type": "display_data"
        },
        {
          "data": {
            "image/png": "[encoded data removed]",
            "text/plain": [
              "<Figure size 1152x360 with 1 Axes>"
            ]
          },
          "metadata": {
            "needs_background": "light"
          },
          "output_type": "display_data"
        }
      ],
      "source": [
        "\n",
        "\n",
        "sns.distplot(loan_data['CoapplicantIncome'])\n",
        "plt.show()\n",
        "loan_data['CoapplicantIncome'].plot.box(figsize=(16,5))\n",
        "plt.show()\n",
        "\n"
      ]
    },
    {
      "cell_type": "markdown",
      "metadata": {
        "id": "u22X1D43DAOo"
      },
      "source": [
        "\n",
        "\n",
        "It has similar distribution as that of the applicant's income.  It can also be seen there are a lot of outliers in the applicant's income and it is not normally distributed.\n"
      ]
    },
    {
      "cell_type": "code",
      "execution_count": null,
      "metadata": {
        "colab": {
          "base_uri": "https://localhost:8080/",
          "height": 582
        },
        "id": "_ExjQGIlC-rC",
        "outputId": "38411d51-d824-425d-d08a-41402e3dc554"
      },
      "outputs": [
        {
          "data": {
            "image/png": "[encoded data removed]",
            "text/plain": [
              "<Figure size 432x288 with 1 Axes>"
            ]
          },
          "metadata": {
            "needs_background": "light"
          },
          "output_type": "display_data"
        },
        {
          "data": {
            "image/png": "[encoded data removed]",
            "text/plain": [
              "<Figure size 1152x360 with 1 Axes>"
            ]
          },
          "metadata": {
            "needs_background": "light"
          },
          "output_type": "display_data"
        }
      ],
      "source": [
        "loan_data.notna()\n",
        "# train.dropna()\n",
        "# print(train[train['LoanAmount'].isnull()])\n",
        "# train['LoanAmount'] = pd.to_numeric(train['LoanAmount'], errors='coerce')\n",
        "# train = train.dropna(subset=['LoanAmount'])\n",
        "# train['LoanAmount'] = train['LoanAmount'].astype(int)\n",
        "sns.distplot(loan_data['LoanAmount'])\n",
        "plt.show()\n",
        "loan_data['LoanAmount'].plot.box(figsize=(16,5))\n",
        "plt.show()"
      ]
    },
    {
      "cell_type": "markdown",
      "metadata": {
        "id": "0RVS7JK6DEdv"
      },
      "source": [
        "## Bivariate Analysis"
      ]
    },
    {
      "cell_type": "markdown",
      "metadata": {
        "id": "7rbAXUw9DSon"
      },
      "source": [
        "### Categorical Independent Variable vs Target Variable"
      ]
    },
    {
      "cell_type": "code",
      "execution_count": null,
      "metadata": {
        "colab": {
          "base_uri": "https://localhost:8080/",
          "height": 305
        },
        "id": "_81e2c4KDBk_",
        "outputId": "74a7173b-c208-449e-c920-a30b02034eab"
      },
      "outputs": [
        {
          "data": {
            "image/png": "[encoded data removed]",
            "text/plain": [
              "<Figure size 288x288 with 1 Axes>"
            ]
          },
          "metadata": {
            "needs_background": "light"
          },
          "output_type": "display_data"
        }
      ],
      "source": [
        "# Creating a cross-tabulation table to show the number of loan approvals and rejections by gender in the 'loan_data' dataframe\n",
        "Gender = pd.crosstab(loan_data['Gender'], loan_data['Loan_Status'])\n",
        "\n",
        "# Dividing each value in the cross-tabulation table by the sum of the row to calculate the percentage of loan approvals and rejections for each gender\n",
        "# and creating a stacked bar chart to visualize the percentage of loan approvals and rejections by gender\n",
        "# using the pandas library's div() and plot() functions\n",
        "Gender.div(Gender.sum(axis=1).astype(float), axis=0).plot(kind=\"bar\", stacked=True, figsize=(4,4))\n",
        "plt.show()\n"
      ]
    },
    {
      "cell_type": "code",
      "execution_count": null,
      "metadata": {
        "colab": {
          "base_uri": "https://localhost:8080/",
          "height": 1000
        },
        "id": "5ohRpYu_DkdP",
        "outputId": "cbeb50f5-22b0-43b7-e59a-97f2f30a2f73"
      },
      "outputs": [
        {
          "data": {
            "image/png": "[encoded data removed]",
            "text/plain": [
              "<Figure size 288x288 with 1 Axes>"
            ]
          },
          "metadata": {
            "needs_background": "light"
          },
          "output_type": "display_data"
        },
        {
          "data": {
            "image/png": "[encoded data removed]",
            "text/plain": [
              "<Figure size 288x288 with 1 Axes>"
            ]
          },
          "metadata": {
            "needs_background": "light"
          },
          "output_type": "display_data"
        },
        {
          "data": {
            "image/png": "[encoded data removed]",
            "text/plain": [
              "<Figure size 288x288 with 1 Axes>"
            ]
          },
          "metadata": {
            "needs_background": "light"
          },
          "output_type": "display_data"
        },
        {
          "data": {
            "image/png": "[encoded data removed]",
            "text/plain": [
              "<Figure size 288x288 with 1 Axes>"
            ]
          },
          "metadata": {
            "needs_background": "light"
          },
          "output_type": "display_data"
        }
      ],
      "source": [
        "# Creating cross-tabulation tables to show the number of loan approvals and rejections by various features in the 'loan_data' dataframe\n",
        "Married = pd.crosstab(loan_data['Married'], loan_data['Loan_Status'])\n",
        "Dependents = pd.crosstab(loan_data['Dependents'], loan_data['Loan_Status'])\n",
        "Education = pd.crosstab(loan_data['Education'], loan_data['Loan_Status'])\n",
        "Self_Employed = pd.crosstab(loan_data['Self_Employed'], loan_data['Loan_Status'])\n",
        "\n",
        "# Dividing each value in the cross-tabulation tables by the sum of the row to calculate the percentage of loan approvals and rejections for each feature\n",
        "# and creating stacked bar charts to visualize the percentage of loan approvals and rejections by each feature\n",
        "# using the pandas library's div() and plot() functions\n",
        "Married.div(Married.sum(1).astype(float), axis=0).plot(kind=\"bar\", stacked=True, figsize=(4,4))\n",
        "plt.show()\n",
        "Dependents.div(Dependents.sum(1).astype(float), axis=0).plot(kind=\"bar\", stacked=True, figsize=(4,4))\n",
        "plt.show()\n",
        "Education.div(Education.sum(1).astype(float), axis=0).plot(kind=\"bar\", stacked=True, figsize=(4,4))\n",
        "plt.show()\n",
        "Self_Employed.div(Self_Employed.sum(1).astype(float), axis=0).plot(kind=\"bar\", stacked=True, figsize=(4,4))\n",
        "plt.show()\n"
      ]
    },
    {
      "cell_type": "code",
      "execution_count": null,
      "metadata": {
        "colab": {
          "base_uri": "https://localhost:8080/",
          "height": 593
        },
        "id": "Y0auhNaeDoB3",
        "outputId": "6c088a1a-fbfc-470b-a2fc-e04bd8d1c515"
      },
      "outputs": [
        {
          "data": {
            "image/png": "[encoded data removed]",
            "text/plain": [
              "<Figure size 288x288 with 1 Axes>"
            ]
          },
          "metadata": {
            "needs_background": "light"
          },
          "output_type": "display_data"
        },
        {
          "data": {
            "image/png": "[encoded data removed]",
            "text/plain": [
              "<Figure size 432x288 with 1 Axes>"
            ]
          },
          "metadata": {
            "needs_background": "light"
          },
          "output_type": "display_data"
        }
      ],
      "source": [
        "Credit_History=pd.crosstab(loan_data['Credit_History'],loan_data['Loan_Status'])\n",
        "Property_Area=pd.crosstab(loan_data['Property_Area'],loan_data['Loan_Status'])\n",
        "Credit_History.div(Credit_History.sum(1).astype(float), axis=0).plot(kind=\"bar\",stacked=True,figsize=(4,4))\n",
        "plt.show()\n",
        "Property_Area.div(Property_Area.sum(1).astype(float), axis=0).plot(kind=\"bar\",stacked=True)\n",
        "plt.show()"
      ]
    },
    {
      "cell_type": "markdown",
      "metadata": {
        "id": "lHWbmNblDzgZ"
      },
      "source": [
        "## Numerical Independent Variable vs Target Variable"
      ]
    },
    {
      "cell_type": "code",
      "execution_count": null,
      "metadata": {
        "colab": {
          "base_uri": "https://localhost:8080/",
          "height": 295
        },
        "id": "SnLvV7IuDuKR",
        "outputId": "cad33155-fcdf-4833-b5fd-eed86d8db6e9"
      },
      "outputs": [
        {
          "data": {
            "text/plain": [
              "<matplotlib.axes._subplots.AxesSubplot at 0x24ddd3164c0>"
            ]
          },
          "execution_count": 18,
          "metadata": {},
          "output_type": "execute_result"
        },
        {
          "data": {
            "image/png": "[encoded data removed]",
            "text/plain": [
              "<Figure size 432x288 with 1 Axes>"
            ]
          },
          "metadata": {
            "needs_background": "light"
          },
          "output_type": "display_data"
        }
      ],
      "source": [
        "loan_data.groupby('Loan_Status')['ApplicantIncome'].mean().plot.bar()"
      ]
    },
    {
      "cell_type": "code",
      "execution_count": null,
      "metadata": {
        "colab": {
          "base_uri": "https://localhost:8080/",
          "height": 317
        },
        "id": "cG_yCQI8D4_A",
        "outputId": "cca8280a-e03a-4785-ade3-4b43bc7c3485"
      },
      "outputs": [
        {
          "data": {
            "image/png": "[encoded data removed]",
            "text/plain": [
              "<Figure size 432x288 with 1 Axes>"
            ]
          },
          "metadata": {
            "needs_background": "light"
          },
          "output_type": "display_data"
        }
      ],
      "source": [
        "\n",
        "\n",
        "bins=[0,2500,4000,6000,81000]\n",
        "group=['Low','Average','High','Very high']\n",
        "loan_data['Income_bin']=pd.cut(loan_data['ApplicantIncome'],bins,labels=group)\n",
        "Income_bin=pd.crosstab(loan_data['Income_bin'],loan_data['Loan_Status'])\n",
        "Income_bin.div(Income_bin.sum(1).astype(float), axis=0).plot(kind=\"bar\",stacked=True)\n",
        "plt.xlabel('ApplicantIncome')\n",
        "P=plt.ylabel('Percentage')\n",
        "\n"
      ]
    },
    {
      "cell_type": "code",
      "execution_count": null,
      "metadata": {
        "colab": {
          "base_uri": "https://localhost:8080/",
          "height": 310
        },
        "id": "vphuP6YDD70q",
        "outputId": "628421e9-e9c3-4e62-d11d-869d3398e1c1"
      },
      "outputs": [
        {
          "data": {
            "image/png": "[encoded data removed]",
            "text/plain": [
              "<Figure size 432x288 with 1 Axes>"
            ]
          },
          "metadata": {
            "needs_background": "light"
          },
          "output_type": "display_data"
        }
      ],
      "source": [
        "\n",
        "\n",
        "bins=[0,1000,3000,42000]\n",
        "group=['Low','Average','High']\n",
        "loan_data['Coapplicant_Income_bin']=pd.cut(loan_data['CoapplicantIncome'],bins,labels=group)\n",
        "Coapplicant_Income_bin=pd.crosstab(loan_data['Coapplicant_Income_bin'],loan_data['Loan_Status'])\n",
        "Coapplicant_Income_bin.div(Coapplicant_Income_bin.sum(1).astype(float), axis=0).plot(kind=\"bar\",stacked=True)\n",
        "plt.xlabel('CoapplicantIncome')\n",
        "P=plt.ylabel('Percentage')\n",
        "\n"
      ]
    },
    {
      "cell_type": "code",
      "execution_count": null,
      "metadata": {
        "colab": {
          "base_uri": "https://localhost:8080/",
          "height": 318
        },
        "id": "Upwavo78D_EI",
        "outputId": "e781c31a-542a-49e9-da91-940d4ec89667"
      },
      "outputs": [
        {
          "data": {
            "image/png": "[encoded data removed]",
            "text/plain": [
              "<Figure size 432x288 with 1 Axes>"
            ]
          },
          "metadata": {
            "needs_background": "light"
          },
          "output_type": "display_data"
        }
      ],
      "source": [
        "\n",
        "\n",
        "loan_data['Total_Income']=loan_data['ApplicantIncome']+loan_data['CoapplicantIncome']\n",
        "bins=[0,2500,4000,6000,81000]\n",
        "group=['Low','Average','High','Very high']\n",
        "loan_data['Total_Income_bin']=pd.cut(loan_data['Total_Income'],bins,labels=group)\n",
        "Total_Income_bin=pd.crosstab(loan_data['Total_Income_bin'],loan_data['Loan_Status'])\n",
        "Total_Income_bin.div(Total_Income_bin.sum(1).astype(float), axis=0).plot(kind=\"bar\",stacked=True)\n",
        "plt.xlabel('Total_Income')\n",
        "P=plt.ylabel('Percentage')\n",
        "\n"
      ]
    },
    {
      "cell_type": "code",
      "execution_count": null,
      "metadata": {
        "colab": {
          "base_uri": "https://localhost:8080/",
          "height": 310
        },
        "id": "Za1MfxH9EBx3",
        "outputId": "4335f062-5fad-4c9a-d9c4-d20c9a8fcb1b"
      },
      "outputs": [
        {
          "data": {
            "image/png": "[encoded data removed]",
            "text/plain": [
              "<Figure size 432x288 with 1 Axes>"
            ]
          },
          "metadata": {
            "needs_background": "light"
          },
          "output_type": "display_data"
        }
      ],
      "source": [
        "bins=[0,100,200,700]\n",
        "group=['Low','Average','High']\n",
        "loan_data['LoanAmount_bin']=pd.cut(loan_data['LoanAmount'],bins,labels=group)\n",
        "LoanAmount_bin=pd.crosstab(loan_data['LoanAmount_bin'],loan_data['Loan_Status'])\n",
        "LoanAmount_bin.div(LoanAmount_bin.sum(1).astype(float), axis=0).plot(kind=\"bar\",stacked=True)\n",
        "plt.xlabel('LoanAmount')\n",
        "P=plt.ylabel('Percentage')"
      ]
    },
    {
      "cell_type": "code",
      "execution_count": null,
      "metadata": {
        "id": "S0YdHnmGEFIo"
      },
      "outputs": [],
      "source": [
        "# print(train.dtypes)\n",
        "loan_data=loan_data.drop(['Income_bin', 'Coapplicant_Income_bin', 'LoanAmount_bin', 'Total_Income_bin', 'Total_Income'], axis=1)\n",
        "loan_data['Dependents'].replace('3+', 3,inplace=True)\n",
        "test_data['Dependents'].replace('3+', 3,inplace=True)"
      ]
    },
    {
      "cell_type": "code",
      "execution_count": null,
      "metadata": {
        "colab": {
          "base_uri": "https://localhost:8080/",
          "height": 483
        },
        "id": "otguNCUlEH_A",
        "outputId": "64401c0c-e5f4-4618-bd7a-d31186c5bdc7"
      },
      "outputs": [
        {
          "data": {
            "text/plain": [
              "<matplotlib.axes._subplots.AxesSubplot at 0x24ddcee7e20>"
            ]
          },
          "execution_count": 24,
          "metadata": {},
          "output_type": "execute_result"
        },
        {
          "data": {
            "image/png": "[encoded data removed]",
            "text/plain": [
              "<Figure size 648x432 with 2 Axes>"
            ]
          },
          "metadata": {
            "needs_background": "light"
          },
          "output_type": "display_data"
        }
      ],
      "source": [
        "\n",
        "\n",
        "matrix = loan_data.corr()\n",
        "f, ax = plt.subplots(figsize=(9,6))\n",
        "sns.heatmap(matrix,vmax=.8,square=True,cmap=\"BuPu\", annot = True)\n",
        "\n"
      ]
    },
    {
      "cell_type": "markdown",
      "metadata": {
        "id": "Y2FwzfaHEOMe"
      },
      "source": [
        "## Missing value imputation\n",
        "\n"
      ]
    },
    {
      "cell_type": "code",
      "execution_count": null,
      "metadata": {
        "colab": {
          "base_uri": "https://localhost:8080/"
        },
        "id": "41no8uIpEKk3",
        "outputId": "826478b7-bf67-4287-fb97-22f8b7e984b8"
      },
      "outputs": [
        {
          "data": {
            "text/plain": [
              "Loan_ID               0\n",
              "Gender               10\n",
              "Married               1\n",
              "Dependents            9\n",
              "Education             0\n",
              "Self_Employed        29\n",
              "ApplicantIncome       0\n",
              "CoapplicantIncome     0\n",
              "LoanAmount           16\n",
              "Loan_Amount_Term     13\n",
              "Credit_History       43\n",
              "Property_Area         0\n",
              "Loan_Status           0\n",
              "dtype: int64"
            ]
          },
          "execution_count": 25,
          "metadata": {},
          "output_type": "execute_result"
        }
      ],
      "source": [
        "\n",
        "\n",
        "loan_data.isnull().sum()\n",
        "\n"
      ]
    },
    {
      "cell_type": "code",
      "execution_count": null,
      "metadata": {
        "colab": {
          "base_uri": "https://localhost:8080/"
        },
        "id": "ghuvEGi4EXOf",
        "outputId": "fd9f4407-18e8-4292-c053-b772099971d9"
      },
      "outputs": [
        {
          "data": {
            "text/plain": [
              "360.0    404\n",
              "180.0     35\n",
              "480.0     13\n",
              "300.0     12\n",
              "84.0       4\n",
              "120.0      3\n",
              "240.0      3\n",
              "36.0       2\n",
              "60.0       1\n",
              "12.0       1\n",
              "Name: Loan_Amount_Term, dtype: int64"
            ]
          },
          "execution_count": 27,
          "metadata": {},
          "output_type": "execute_result"
        }
      ],
      "source": [
        "loan_data['Loan_Amount_Term'].value_counts()"
      ]
    },
    {
      "cell_type": "code",
      "execution_count": null,
      "metadata": {
        "id": "oZrknRJCEZ6Q"
      },
      "outputs": [],
      "source": [
        "loan_data['Loan_Amount_Term'].fillna(loan_data['Loan_Amount_Term'].mode()[0], inplace=True)"
      ]
    },
    {
      "cell_type": "code",
      "execution_count": null,
      "metadata": {
        "id": "ajZ7lB9cEdlA"
      },
      "outputs": [],
      "source": [
        "loan_data['LoanAmount'].fillna(loan_data['LoanAmount'].median(), inplace=True)"
      ]
    },
    {
      "cell_type": "code",
      "execution_count": null,
      "metadata": {
        "colab": {
          "base_uri": "https://localhost:8080/"
        },
        "id": "0czslu_AEgpf",
        "outputId": "008ea6a8-a865-4de3-ec6f-9b06753fadbb"
      },
      "outputs": [
        {
          "data": {
            "text/plain": [
              "Loan_ID              0\n",
              "Gender               0\n",
              "Married              0\n",
              "Dependents           0\n",
              "Education            0\n",
              "Self_Employed        0\n",
              "ApplicantIncome      0\n",
              "CoapplicantIncome    0\n",
              "LoanAmount           0\n",
              "Loan_Amount_Term     0\n",
              "Credit_History       0\n",
              "Property_Area        0\n",
              "Loan_Status          0\n",
              "dtype: int64"
            ]
          },
          "execution_count": 30,
          "metadata": {},
          "output_type": "execute_result"
        }
      ],
      "source": [
        "\n",
        "\n",
        "loan_data.isnull().sum()\n",
        "\n"
      ]
    },
    {
      "cell_type": "code",
      "execution_count": null,
      "metadata": {
        "id": "iOgRGA-LEja-"
      },
      "outputs": [],
      "source": [
        "test_data['Gender'].fillna(loan_data['Gender'].mode()[0], inplace=True)\n",
        "test_data['Married'].fillna(loan_data['Married'].mode()[0], inplace=True)\n",
        "test_data['Dependents'].fillna(loan_data['Dependents'].mode()[0], inplace=True)\n",
        "test_data['Self_Employed'].fillna(loan_data['Self_Employed'].mode()[0], inplace=True)\n",
        "test_data['Credit_History'].fillna(loan_data['Credit_History'].mode()[0], inplace=True)\n",
        "test_data['Loan_Amount_Term'].fillna(loan_data['Loan_Amount_Term'].mode()[0], inplace=True)\n",
        "test_data['LoanAmount'].fillna(loan_data['LoanAmount'].median(), inplace=True)"
      ]
    },
    {
      "cell_type": "markdown",
      "metadata": {
        "id": "Si6agv_JEoWI"
      },
      "source": [
        "## Outlier Treatement"
      ]
    },
    {
      "cell_type": "code",
      "execution_count": null,
      "metadata": {
        "colab": {
          "base_uri": "https://localhost:8080/",
          "height": 265
        },
        "id": "n08eMY1wEzh_",
        "outputId": "a53fbacb-7343-4b21-d8ba-1abd7447bd90"
      },
      "outputs": [
        {
          "data": {
            "image/png": "[encoded data removed]",
            "text/plain": [
              "<Figure size 432x288 with 1 Axes>"
            ]
          },
          "metadata": {
            "needs_background": "light"
          },
          "output_type": "display_data"
        }
      ],
      "source": [
        "loan_data['LoanAmount_log']=np.log(loan_data['LoanAmount'])\n",
        "loan_data['LoanAmount_log'].hist(bins=20)\n",
        "test_data['LoanAmount_log']=np.log(test_data['LoanAmount'])"
      ]
    },
    {
      "cell_type": "markdown",
      "metadata": {
        "id": "vw3qiRwzE2y_"
      },
      "source": [
        "## Model Building"
      ]
    },
    {
      "cell_type": "code",
      "execution_count": null,
      "metadata": {
        "id": "u_AkzaglEnzn"
      },
      "outputs": [],
      "source": [
        "\n",
        "\n",
        "loan_data=loan_data.drop('Loan_ID',axis=1)\n",
        "test_data=test_data.drop('Loan_ID',axis=1)\n",
        "\n"
      ]
    },
    {
      "cell_type": "code",
      "execution_count": null,
      "metadata": {
        "id": "heoBVvAWFGm_"
      },
      "outputs": [],
      "source": [
        "\n",
        "\n",
        "X = loan_data.drop('Loan_Status',axis=1)\n",
        "y = loan_data.Loan_Status\n",
        "\n"
      ]
    },
    {
      "cell_type": "code",
      "execution_count": null,
      "metadata": {
        "id": "IPpi-fBGFJsQ"
      },
      "outputs": [],
      "source": [
        "\n",
        "\n",
        "train = loan_data.copy()\n",
        "test = test_data.copy()\n",
        "\n"
      ]
    },
    {
      "cell_type": "code",
      "execution_count": null,
      "metadata": {
        "id": "VJMBrpt8FQRm"
      },
      "outputs": [],
      "source": [
        "\n",
        "\n",
        "X = pd.get_dummies(X)\n",
        "train=pd.get_dummies(train)\n",
        "test=pd.get_dummies(test)\n",
        "\n"
      ]
    },
    {
      "cell_type": "code",
      "execution_count": null,
      "metadata": {
        "id": "UP0JxtEwFSOv"
      },
      "outputs": [],
      "source": [
        "from sklearn.model_selection import train_test_split\n",
        "x_train, x_valid, y_train, y_valid = train_test_split(X,y, test_size=0.3)"
      ]
    },
    {
      "cell_type": "code",
      "execution_count": null,
      "metadata": {
        "colab": {
          "base_uri": "https://localhost:8080/"
        },
        "id": "uS9deKmAFV5h",
        "outputId": "23b2d4bf-829b-47e4-f50f-ded07e2863bd"
      },
      "outputs": [
        {
          "data": {
            "text/plain": [
              "LogisticRegression()"
            ]
          },
          "execution_count": 38,
          "metadata": {},
          "output_type": "execute_result"
        }
      ],
      "source": [
        "from sklearn.linear_model import LogisticRegression\n",
        "from sklearn.metrics import accuracy_score, f1_score\n",
        "model = LogisticRegression()\n",
        "model.fit(x_train, y_train)\n",
        "# LogisticRegression(C=1.0, class_weight=None, dual=False, fit_intercept=True, intercept_scaling=1, max_iter=100, multi_class='ovr', n_jobs=1, penalty='12"
      ]
    },
    {
      "cell_type": "code",
      "execution_count": null,
      "metadata": {
        "colab": {
          "base_uri": "https://localhost:8080/"
        },
        "id": "OR6t4YPwFU3_",
        "outputId": "58e520a8-7759-43c0-e9b5-78a91d091374"
      },
      "outputs": [
        {
          "name": "stdout",
          "output_type": "stream",
          "text": [
            "Model Accuracy =  0.8783783783783784\n",
            "Model F1-Score =  0.9217391304347826\n"
          ]
        }
      ],
      "source": [
        "\n",
        "\n",
        "pred_cv = model.predict(x_valid)\n",
        "print('Model Accuracy = ', accuracy_score(y_valid,pred_cv))\n",
        "print('Model F1-Score = ', f1_score(y_valid,pred_cv))\n",
        "\n"
      ]
    }
  ],
  "metadata": {
    "colab": {
      "provenance": [],
      "include_colab_link": true
    },
    "kernelspec": {
      "display_name": "Python 3",
      "language": "python",
      "name": "python3"
    },
    "language_info": {
      "codemirror_mode": {
        "name": "ipython",
        "version": 3
      },
      "file_extension": ".py",
      "mimetype": "text/x-python",
      "name": "python",
      "nbconvert_exporter": "python",
      "pygments_lexer": "ipython3",
      "version": "3.8.3"
    }
  },
  "nbformat": 4,
  "nbformat_minor": 0
}